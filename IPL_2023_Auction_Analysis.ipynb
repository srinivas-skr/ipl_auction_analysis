{
 "cells": [
  {
   "cell_type": "code",
   "execution_count": null,
   "id": "f04cce4c",
   "metadata": {},
   "outputs": [],
   "source": [
    "\n",
    "    !pip install -q pandasai\n",
    "    "
   ]
  },
  {
   "cell_type": "code",
   "execution_count": null,
   "id": "37f07db5",
   "metadata": {},
   "outputs": [],
   "source": [
    "\n",
    "    import pandas as pd\n",
    "    from pandasai import PandasAI\n",
    "    from pandasai.llm.openai import OpenAI\n",
    "    "
   ]
  },
  {
   "cell_type": "code",
   "execution_count": null,
   "id": "dcfc22b9",
   "metadata": {},
   "outputs": [],
   "source": [
    "\n",
    "    # replace \"your_api_key\" with your generated key\n",
    "    OPENAI_API_KEY = \"your_api_key\"\n",
    "    llm = OpenAI(api_token=OPENAI_API_KEY)\n",
    "    pandas_ai = PandasAI(llm)\n",
    "    "
   ]
  },
  {
   "cell_type": "code",
   "execution_count": null,
   "id": "210cbf20",
   "metadata": {},
   "outputs": [],
   "source": [
    "\n",
    "    df = pd.read_csv('IPL_Squad_2023_Auction_Dataset.csv')\n",
    "    print(df.shape)\n",
    "    df.head()\n",
    "    "
   ]
  },
  {
   "cell_type": "code",
   "execution_count": null,
   "id": "c9c43774",
   "metadata": {},
   "outputs": [],
   "source": [
    "\n",
    "    df.drop(['Unnamed: 0'], axis=1, inplace=True)\n",
    "    df.head()\n",
    "    "
   ]
  },
  {
   "cell_type": "code",
   "execution_count": null,
   "id": "bfc7cfd2",
   "metadata": {},
   "outputs": [],
   "source": [
    "\n",
    "    pandas_ai.run(df, prompt=\"Which players are the most costliest buys?\")\n",
    "    "
   ]
  },
  {
   "cell_type": "code",
   "execution_count": null,
   "id": "c070b591",
   "metadata": {},
   "outputs": [],
   "source": [
    "\n",
    "    prompts = '''\n",
    "    Which players were the cheapest buys this season and which team bought them?\n",
    "    '''\n",
    "    pandas_ai.run(df, prompt=prompts)\n",
    "    "
   ]
  },
  {
   "cell_type": "code",
   "execution_count": null,
   "id": "b25783f7",
   "metadata": {},
   "outputs": [],
   "source": [
    "\n",
    "    prompts = '''\n",
    "    Draw a Bargraph showing How much money was spent by each team this season overall.\n",
    "    '''\n",
    "    pandas_ai.run(df, prompt=prompts)\n",
    "    "
   ]
  },
  {
   "cell_type": "code",
   "execution_count": null,
   "id": "471896c7",
   "metadata": {},
   "outputs": [],
   "source": [
    "\n",
    "    pandas_ai.run(df, prompt=\"How many bowler remained unsold and what was their base price?\")\n",
    "    "
   ]
  },
  {
   "cell_type": "code",
   "execution_count": null,
   "id": "10f9128b",
   "metadata": {},
   "outputs": [],
   "source": [
    "\n",
    "    pandas_ai.run(df, prompt=\"How many players remained unsold this season?\")\n",
    "    "
   ]
  },
  {
   "cell_type": "code",
   "execution_count": null,
   "id": "2f55e700",
   "metadata": {},
   "outputs": [],
   "source": [
    "\n",
    "    pandas_ai.run(df, prompt=\"Which type of players were majorly unsold?\")\n",
    "    "
   ]
  },
  {
   "cell_type": "code",
   "execution_count": null,
   "id": "859d4791",
   "metadata": {},
   "outputs": [],
   "source": [
    "\n",
    "    pandas_ai.run(df, prompt=\"Who are three new players Gujrat picked?\")\n",
    "    "
   ]
  },
  {
   "cell_type": "code",
   "execution_count": null,
   "id": "1c5475cb",
   "metadata": {},
   "outputs": [],
   "source": [
    "\n",
    "    pandas_ai.run(df, prompt=\"What is total money spent by all teams in dollars?\")\n",
    "    "
   ]
  },
  {
   "cell_type": "code",
   "execution_count": null,
   "id": "7d28311c",
   "metadata": {},
   "outputs": [],
   "source": [
    "\n",
    "    prompts = '''\n",
    "    draw a barplot showing \n",
    "    how much money was spent by Mumbai Indians on all types of players?\n",
    "    '''\n",
    "    pandas_ai.run(df, prompt=prompts)\n",
    "    "
   ]
  },
  {
   "cell_type": "code",
   "execution_count": null,
   "id": "b80e6b80",
   "metadata": {},
   "outputs": [],
   "source": [
    "\n",
    "    prompts = '''\n",
    "    draw a barplot showing how much money was spent by Gujrat on all types of players?\n",
    "    '''\n",
    "    pandas_ai.run(df, prompt=prompts)\n",
    "    "
   ]
  }
 ],
 "metadata": {},
 "nbformat": 4,
 "nbformat_minor": 5
}
